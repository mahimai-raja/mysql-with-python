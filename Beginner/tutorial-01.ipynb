{
 "cells": [
  {
   "cell_type": "markdown",
   "id": "21c7b4bd",
   "metadata": {},
   "source": [
    "# MySql with python"
   ]
  },
  {
   "cell_type": "code",
   "execution_count": 1,
   "id": "f522a42f",
   "metadata": {},
   "outputs": [],
   "source": [
    "import mysql.connector"
   ]
  },
  {
   "cell_type": "code",
   "execution_count": 2,
   "id": "c8f25739",
   "metadata": {},
   "outputs": [
    {
     "name": "stdout",
     "output_type": "stream",
     "text": [
      "('DBMS',)\n",
      "('information_schema',)\n",
      "('mysql',)\n",
      "('performance_schema',)\n",
      "('sys',)\n"
     ]
    }
   ],
   "source": [
    "con = mysql.connector.connect(host='localhost', user='root', password='*******')\n",
    "\n",
    "mycursor = con.cursor()\n",
    "\n",
    "mycursor.execute('SHOW DATABASES')\n",
    "\n",
    "for i in mycursor:\n",
    "    print(i)"
   ]
  },
  {
   "cell_type": "code",
   "execution_count": 3,
   "id": "6057f09f",
   "metadata": {},
   "outputs": [
    {
     "name": "stdout",
     "output_type": "stream",
     "text": [
      "('ID', 'int', 'YES', '', None, '')\n",
      "('Name', 'varchar(10)', 'YES', '', None, '')\n"
     ]
    }
   ],
   "source": [
    "mycursor.execute('USE DBMS')\n",
    "mycursor.execute('DESC STUDENT')\n",
    "\n",
    "for i in mycursor:\n",
    "    print(i)"
   ]
  },
  {
   "cell_type": "code",
   "execution_count": null,
   "id": "930cf070",
   "metadata": {},
   "outputs": [],
   "source": []
  }
 ],
 "metadata": {
  "kernelspec": {
   "display_name": "Python 3 (ipykernel)",
   "language": "python",
   "name": "python3"
  },
  "language_info": {
   "codemirror_mode": {
    "name": "ipython",
    "version": 3
   },
   "file_extension": ".py",
   "mimetype": "text/x-python",
   "name": "python",
   "nbconvert_exporter": "python",
   "pygments_lexer": "ipython3",
   "version": "3.7.13"
  }
 },
 "nbformat": 4,
 "nbformat_minor": 5
}
